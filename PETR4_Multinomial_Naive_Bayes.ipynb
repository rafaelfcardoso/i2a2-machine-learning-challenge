{
  "nbformat": 4,
  "nbformat_minor": 0,
  "metadata": {
    "colab": {
      "name": "PETR4 - Multinomial Naive Bayes ",
      "provenance": [],
      "collapsed_sections": [],
      "include_colab_link": true
    },
    "kernelspec": {
      "name": "python3",
      "display_name": "Python 3"
    },
    "language_info": {
      "name": "python"
    }
  },
  "cells": [
    {
      "cell_type": "markdown",
      "metadata": {
        "id": "view-in-github",
        "colab_type": "text"
      },
      "source": [
        "<a href=\"https://colab.research.google.com/github/rafaelfcardoso/naive-bayes-trading-system/blob/main/PETR4_Multinomial_Naive_Bayes.ipynb\" target=\"_parent\"><img src=\"https://colab.research.google.com/assets/colab-badge.svg\" alt=\"Open In Colab\"/></a>"
      ]
    },
    {
      "cell_type": "code",
      "metadata": {
        "id": "PtejR09xFkpa"
      },
      "source": [
        "!pip install bt"
      ],
      "execution_count": null,
      "outputs": []
    },
    {
      "cell_type": "code",
      "metadata": {
        "id": "orMBFR_yO5R7"
      },
      "source": [
        "!pip install yfinance\n",
        "!pip install --upgrade mplfinance\n",
        " \n",
        "#Instalação da Biblioteca TA-lib\n",
        "url = 'https://launchpad.net/~mario-mariomedina/+archive/ubuntu/talib/+files'\n",
        "!wget $url/libta-lib0_0.4.0-oneiric1_amd64.deb -qO libta.deb\n",
        "!wget $url/ta-lib0-dev_0.4.0-oneiric1_amd64.deb -qO ta.deb\n",
        "!dpkg -i libta.deb ta.deb\n",
        "!pip install ta-lib\n",
        "!pip install pandas_ta"
      ],
      "execution_count": null,
      "outputs": []
    },
    {
      "cell_type": "code",
      "metadata": {
        "id": "i1o3j7QLPDix"
      },
      "source": [
        "import numpy as np\n",
        "import pandas as pd\n",
        "import scipy as sp\n",
        "import seaborn as sns\n",
        "import matplotlib.pyplot as plt\n",
        "\n",
        "import yfinance as yf\n",
        "\n",
        "import talib as ta\n",
        "#import pandas_ta as pd_ta\n",
        "\n",
        "from sklearn import metrics\n",
        "from sklearn.linear_model import LinearRegression\n",
        "from sklearn.naive_bayes import GaussianNB, MultinomialNB, ComplementNB, BernoulliNB, CategoricalNB"
      ],
      "execution_count": 22,
      "outputs": []
    },
    {
      "cell_type": "code",
      "metadata": {
        "id": "hU8aVRrfPUf9"
      },
      "source": [
        "%matplotlib inline"
      ],
      "execution_count": 23,
      "outputs": []
    },
    {
      "cell_type": "code",
      "metadata": {
        "id": "0ssva7zuPVKm"
      },
      "source": [
        "stock_ticker = 'PETR4.SA'\n",
        "start_date = '2016-01-25'\n",
        "end_date = '2020-05-27'\n",
        "\n",
        "yf_stock = yf.Ticker(stock_ticker)\n",
        "df_stock = yf_stock.history(start=start_date, end=end_date)\n",
        "\n",
        "stock_ticker = '^BVSP'\n",
        "yf_ibov = yf.Ticker(stock_ticker)\n",
        "df_ibov = yf_ibov.history(start=start_date, end=end_date)"
      ],
      "execution_count": 24,
      "outputs": []
    },
    {
      "cell_type": "code",
      "metadata": {
        "id": "dFVPuA5-zhx0",
        "colab": {
          "base_uri": "https://localhost:8080/",
          "height": 495
        },
        "outputId": "85b973ff-3bbf-4d02-d570-7eadf7a0e13c"
      },
      "source": [
        "df_stock['Close'].plot()\n",
        "plt.show()\n",
        "df_stock.head()"
      ],
      "execution_count": 25,
      "outputs": [
        {
          "output_type": "display_data",
          "data": {
            "image/png": "[encoded data removed]",
            "text/plain": [
              "<Figure size 432x288 with 1 Axes>"
            ]
          },
          "metadata": {
            "tags": [],
            "needs_background": "light"
          }
        },
        {
          "output_type": "execute_result",
          "data": {
            "text/html": [
              "<div>\n",
              "<style scoped>\n",
              "    .dataframe tbody tr th:only-of-type {\n",
              "        vertical-align: middle;\n",
              "    }\n",
              "\n",
              "    .dataframe tbody tr th {\n",
              "        vertical-align: top;\n",
              "    }\n",
              "\n",
              "    .dataframe thead th {\n",
              "        text-align: right;\n",
              "    }\n",
              "</style>\n",
              "<table border=\"1\" class=\"dataframe\">\n",
              "  <thead>\n",
              "    <tr style=\"text-align: right;\">\n",
              "      <th></th>\n",
              "      <th>Open</th>\n",
              "      <th>High</th>\n",
              "      <th>Low</th>\n",
              "      <th>Close</th>\n",
              "      <th>Volume</th>\n",
              "      <th>Dividends</th>\n",
              "      <th>Stock Splits</th>\n",
              "    </tr>\n",
              "    <tr>\n",
              "      <th>Date</th>\n",
              "      <th></th>\n",
              "      <th></th>\n",
              "      <th></th>\n",
              "      <th></th>\n",
              "      <th></th>\n",
              "      <th></th>\n",
              "      <th></th>\n",
              "    </tr>\n",
              "  </thead>\n",
              "  <tbody>\n",
              "    <tr>\n",
              "      <th>2016-01-26</th>\n",
              "      <td>3.796411</td>\n",
              "      <td>3.868210</td>\n",
              "      <td>3.697686</td>\n",
              "      <td>3.769486</td>\n",
              "      <td>71933300</td>\n",
              "      <td>0.0</td>\n",
              "      <td>0</td>\n",
              "    </tr>\n",
              "    <tr>\n",
              "      <th>2016-01-27</th>\n",
              "      <td>3.787435</td>\n",
              "      <td>4.164384</td>\n",
              "      <td>3.733586</td>\n",
              "      <td>4.101560</td>\n",
              "      <td>79437900</td>\n",
              "      <td>0.0</td>\n",
              "      <td>0</td>\n",
              "    </tr>\n",
              "    <tr>\n",
              "      <th>2016-01-28</th>\n",
              "      <td>4.191310</td>\n",
              "      <td>4.604158</td>\n",
              "      <td>3.904111</td>\n",
              "      <td>4.128485</td>\n",
              "      <td>131960900</td>\n",
              "      <td>0.0</td>\n",
              "      <td>0</td>\n",
              "    </tr>\n",
              "    <tr>\n",
              "      <th>2016-01-29</th>\n",
              "      <td>4.218234</td>\n",
              "      <td>4.361834</td>\n",
              "      <td>4.056685</td>\n",
              "      <td>4.343884</td>\n",
              "      <td>93013900</td>\n",
              "      <td>0.0</td>\n",
              "      <td>0</td>\n",
              "    </tr>\n",
              "    <tr>\n",
              "      <th>2016-02-01</th>\n",
              "      <td>4.254133</td>\n",
              "      <td>4.361833</td>\n",
              "      <td>4.182333</td>\n",
              "      <td>4.236183</td>\n",
              "      <td>51910300</td>\n",
              "      <td>0.0</td>\n",
              "      <td>0</td>\n",
              "    </tr>\n",
              "  </tbody>\n",
              "</table>\n",
              "</div>"
            ],
            "text/plain": [
              "                Open      High       Low     Close     Volume  Dividends  Stock Splits\n",
              "Date                                                                                  \n",
              "2016-01-26  3.796411  3.868210  3.697686  3.769486   71933300        0.0             0\n",
              "2016-01-27  3.787435  4.164384  3.733586  4.101560   79437900        0.0             0\n",
              "2016-01-28  4.191310  4.604158  3.904111  4.128485  131960900        0.0             0\n",
              "2016-01-29  4.218234  4.361834  4.056685  4.343884   93013900        0.0             0\n",
              "2016-02-01  4.254133  4.361833  4.182333  4.236183   51910300        0.0             0"
            ]
          },
          "metadata": {
            "tags": []
          },
          "execution_count": 25
        }
      ]
    },
    {
      "cell_type": "code",
      "metadata": {
        "id": "sMd5xrNNPXZM"
      },
      "source": [
        "def indicadores(stock_data):\n",
        "    #Retorna as features para o treinamento do modelo\n",
        "\n",
        "    data = stock_data.copy()\n",
        "    #Valores do indicador Williams %R:\n",
        "    data['W%R'] = ta.WILLR(data['High'], data['Low'], data['Close'], timeperiod=14)\n",
        "\n",
        "     #Valores do indicador MACD:\n",
        "    data['MACD'], data['Signal-line'], data['Histograma_MACD'] = ta.MACD(data['Close'], fastperiod=12, slowperiod=26, signalperiod=9)\n",
        "\n",
        "    #Sinal histograma MACD, 1 bulLish, 0 bearish:\n",
        "    data.loc[:, 'Momento_MACD']=np.where(data['Histograma_MACD']>0, 1, 0) \n",
        "\n",
        "    #Tendencia no histograma MACD, 1 bullish, 0 para bearish:\n",
        "    data['Tendencia_MACD']=np.where(data['Histograma_MACD'].diff()>0, 1, 0) \n",
        "\n",
        "    #data.loc[:, 'W%R_Sinal']= np.where(data['W%R']<-90, 2, np.where(data['W%R']>-10,0, 1)) # Retorna 1 para sinal de compra, Williams %R < -80, -1 para sinal de venda, caso Williams %R > -20\n",
        "    data.loc[:, 'W%R_Compra']= np.where(data['W%R']<-80, 1, 0) # Retorna 1 para sinal de compra, caso Williams %R < -80\n",
        "    #data.loc[:, 'W%R_Venda']= np.where(data['W%R']>-10, 1, 0)  # Retorna 1 para sinal de venda, caso Williams %R > -20\n",
        "    \n",
        "    \n",
        "    data['Hammer']=ta.CDLHAMMER(data['Open'],data['High'], data['Low'], data['Close'])/100 #Sinal de compra pra martelo.\n",
        "    data['Shooting_star'] = ta.CDLSHOOTINGSTAR(data['Open'],data['High'], data['Low'], data['Close'])/-100 #Sinal de venda 'estrela cadente'\n",
        "\n",
        "    #Medias moveis exponenciais:\n",
        "    data[\"EMA9\"] =  ta.EMA(data[\"Close\"], timeperiod=9)\n",
        "    data[\"EMA21\"] =  ta.EMA(data[\"Close\"], timeperiod=21)\n",
        "    data[\"EMA200\"] =  ta.EMA(data[\"Close\"], timeperiod=200)\n",
        "\n",
        "    data['Tendencia_Primaria'] = np.where(data['EMA200'].diff()>0, 1, 0)\n",
        "    data['Tendencia_Secundaria'] = np.where(data['EMA21'].diff()>0, 1, 0)\n",
        "    data['Tendencia_Terciaria'] = np.where(data['EMA9'].diff()>0, 1, 0)\n",
        "\n",
        "\n",
        "    \n",
        "    #return data[['W%R_Compra','Tendencia_MACD', 'Tendencia_Primaria', 'Tendencia_Secundaria','Tendencia_Terciaria',\"EMA9\",\"EMA21\",\"EMA200\",'W%R','MACD','Hammer','Shooting_star','Momento_MACD','Tendencia_MACD','W%R_Sinal',]]\n",
        "    return data[['W%R_Compra','Momento_MACD']]"
      ],
      "execution_count": 26,
      "outputs": []
    },
    {
      "cell_type": "code",
      "metadata": {
        "colab": {
          "base_uri": "https://localhost:8080/",
          "height": 316
        },
        "id": "zccd6yYpOwLb",
        "outputId": "dacb34a4-760f-4d45-c485-0d475a86b711"
      },
      "source": [
        "#target 1 dia\n",
        "df_stock['1d_close_pct']=df_stock['Close'].pct_change(1)\n",
        "df_stock['1d_future_close']=df_stock['Close'].shift(-1)\n",
        "df_stock['1d_future_close_pct']=df_stock['1d_future_close'].pct_change(1)\n",
        "corr=df_stock[['1d_close_pct','1d_future_close_pct']].corr()\n",
        "print(corr)\n",
        "plt.scatter(df_stock['1d_close_pct'],df_stock['1d_future_close_pct'])\n",
        "plt.show()"
      ],
      "execution_count": 27,
      "outputs": [
        {
          "output_type": "stream",
          "text": [
            "                     1d_close_pct  1d_future_close_pct\n",
            "1d_close_pct             1.000000            -0.087415\n",
            "1d_future_close_pct     -0.087415             1.000000\n"
          ],
          "name": "stdout"
        },
        {
          "output_type": "display_data",
          "data": {
            "image/png": "[encoded data removed]",
            "text/plain": [
              "<Figure size 432x288 with 1 Axes>"
            ]
          },
          "metadata": {
            "tags": [],
            "needs_background": "light"
          }
        }
      ]
    },
    {
      "cell_type": "code",
      "metadata": {
        "colab": {
          "base_uri": "https://localhost:8080/",
          "height": 316
        },
        "id": "bKA3J2A7_n1y",
        "outputId": "797b443d-d15b-4d91-f178-f59987e39d3e"
      },
      "source": [
        "#target 5 dias\n",
        "df_stock['5d_close_pct']=df_stock['Close'].pct_change(5)\n",
        "df_stock['5d_future_close']=df_stock['Close'].shift(-5)\n",
        "df_stock['5d_future_close_pct']=df_stock['5d_future_close'].pct_change(5)\n",
        "corr=df_stock[['5d_close_pct','5d_future_close_pct']].corr()\n",
        "print(corr)\n",
        "plt.scatter(df_stock['5d_close_pct'],df_stock['5d_future_close_pct'])\n",
        "plt.show()"
      ],
      "execution_count": 28,
      "outputs": [
        {
          "output_type": "stream",
          "text": [
            "                     5d_close_pct  5d_future_close_pct\n",
            "5d_close_pct             1.000000             0.151682\n",
            "5d_future_close_pct      0.151682             1.000000\n"
          ],
          "name": "stdout"
        },
        {
          "output_type": "display_data",
          "data": {
            "image/png": "[encoded data removed]",
            "text/plain": [
              "<Figure size 432x288 with 1 Axes>"
            ]
          },
          "metadata": {
            "tags": [],
            "needs_background": "light"
          }
        }
      ]
    },
    {
      "cell_type": "code",
      "metadata": {
        "id": "OfUf_01dt0dQ",
        "colab": {
          "base_uri": "https://localhost:8080/",
          "height": 767
        },
        "outputId": "009c7dd7-0a55-47c5-e478-e16cd22dc509"
      },
      "source": [
        "target_5 = df_stock['5d_future_close_pct']\n",
        "target_1= df_stock['1d_future_close_pct']\n",
        "\n",
        "#print(target_1, target_5)\n",
        "features = indicadores(df_stock)\n",
        "feat_list=features.columns.to_list()\n",
        "print(feat_list)\n",
        "\n",
        "#target_bear_trend= features['Tendencia_Terciaria']\n",
        "\n",
        "df_features_and_target = features\n",
        "df_features_and_target['5d_future_close_pct']= target_5\n",
        "df_features_and_target['1d_future_close_pct']= target_1\n",
        "#print(target_bear_trend.head(20))\n",
        "print(df_features_and_target.head(20))\n",
        "corr = df_features_and_target.corr()\n",
        "sns.heatmap(corr, annot=True)"
      ],
      "execution_count": 29,
      "outputs": [
        {
          "output_type": "stream",
          "text": [
            "['W%R_Compra', 'Momento_MACD']\n",
            "            W%R_Compra  Momento_MACD  5d_future_close_pct  1d_future_close_pct\n",
            "Date                                                                          \n",
            "2016-01-26           0             0                  NaN                  NaN\n",
            "2016-01-27           0             0                  NaN             0.006565\n",
            "2016-01-28           0             0                  NaN             0.052174\n",
            "2016-01-29           0             0                  NaN            -0.024794\n",
            "2016-02-01           0             0                  NaN            -0.088983\n",
            "2016-02-02           0             0            -0.016279             0.044186\n",
            "2016-02-03           0             0            -0.008909             0.053452\n",
            "2016-02-04           0             0            -0.033827            -0.040169\n",
            "2016-02-05           0             0            -0.022026            -0.050661\n",
            "2016-02-10           0             0             0.085847            -0.018561\n",
            "2016-02-11           0             0             0.085106             0.052009\n",
            "2016-02-12           0             0             0.002247             0.026967\n",
            "2016-02-15           0             0             0.102845            -0.028446\n",
            "2016-02-16           0             0             0.108108             0.054054\n",
            "2016-02-17           0             0             0.040598            -0.019231\n",
            "2016-02-18           0             0             0.065359            -0.028322\n",
            "2016-02-19           0             0             0.091928             0.130045\n",
            "2016-02-22           0             0             0.019841            -0.023809\n",
            "2016-02-23           0             0             0.079268            -0.010163\n",
            "2016-02-24           0             0             0.160165             0.004107\n"
          ],
          "name": "stdout"
        },
        {
          "output_type": "execute_result",
          "data": {
            "text/plain": [
              "<matplotlib.axes._subplots.AxesSubplot at 0x7f8c7216c210>"
            ]
          },
          "metadata": {
            "tags": []
          },
          "execution_count": 29
        },
        {
          "output_type": "display_data",
          "data": {
            "image/png": "[encoded data removed]",
            "text/plain": [
              "<Figure size 432x288 with 2 Axes>"
            ]
          },
          "metadata": {
            "tags": [],
            "needs_background": "light"
          }
        }
      ]
    },
    {
      "cell_type": "markdown",
      "metadata": {
        "id": "Bz5Zklp5tS4E"
      },
      "source": [
        "# Data Cleaning"
      ]
    },
    {
      "cell_type": "code",
      "metadata": {
        "colab": {
          "base_uri": "https://localhost:8080/"
        },
        "id": "yoCPNzdWDqac",
        "outputId": "7d4ad85e-b5b0-4ab9-8bf2-edd77d88ee31"
      },
      "source": [
        "#Data cleaning\n",
        "print(df_features_and_target['5d_future_close_pct'].isnull().sum())\n",
        "\n",
        "indices_5 = df_features_and_target[df_features_and_target['5d_future_close_pct'].isnull()].index\n",
        "indices_1 = df_features_and_target[df_features_and_target['1d_future_close_pct'].isnull()].index\n",
        "\n",
        "df_clean_1 = df_features_and_target.drop(indices_1)\n",
        "df_clean_5 = df_features_and_target.drop(indices_5)\n",
        "\n",
        "features_clean = df_features_and_target.drop(['5d_future_close_pct', '1d_future_close_pct'], axis=1)\n",
        "#target_1_clean, target_5_clean = pd.DataFrame(target_1).drop(indices_1), pd.DataFrame(target_5).drop(indices_5)\n",
        "target_1_clean, target_5_clean = pd.DataFrame(target_1).fillna(value=0), pd.DataFrame(target_5).fillna(value=0)\n",
        "\n",
        "target_1_clean['Bull'], target_1_clean['Bear'] = np.where(target_1_clean['1d_future_close_pct']>0, 1, 0), np.where(target_1_clean['1d_future_close_pct']<0, 1, 0) \n",
        "target_5_clean['Bull'], target_5_clean['Bear'] = np.where(target_5_clean['5d_future_close_pct']>0, 1, 0), np.where(target_5_clean['5d_future_close_pct']<0, 1, 0)\n",
        "\n",
        "\n",
        "pd.set_option('display.expand_frame_repr', False)\n",
        "print(target_1_clean)\n",
        "#print(target_5_clean)\n",
        "print(features_clean)\n"
      ],
      "execution_count": 30,
      "outputs": [
        {
          "output_type": "stream",
          "text": [
            "5\n",
            "            1d_future_close_pct  Bull  Bear\n",
            "Date                                       \n",
            "2016-01-26             0.000000     0     0\n",
            "2016-01-27             0.006565     1     0\n",
            "2016-01-28             0.052174     1     0\n",
            "2016-01-29            -0.024794     0     1\n",
            "2016-02-01            -0.088983     0     1\n",
            "...                         ...   ...   ...\n",
            "2020-05-20            -0.005699     0     1\n",
            "2020-05-21            -0.027097     0     1\n",
            "2020-05-22             0.043385     1     0\n",
            "2020-05-25             0.009754     1     0\n",
            "2020-05-26             0.000000     0     0\n",
            "\n",
            "[1078 rows x 3 columns]\n",
            "            W%R_Compra  Momento_MACD\n",
            "Date                                \n",
            "2016-01-26           0             0\n",
            "2016-01-27           0             0\n",
            "2016-01-28           0             0\n",
            "2016-01-29           0             0\n",
            "2016-02-01           0             0\n",
            "...                ...           ...\n",
            "2020-05-20           0             1\n",
            "2020-05-21           0             1\n",
            "2020-05-22           0             1\n",
            "2020-05-25           0             1\n",
            "2020-05-26           0             1\n",
            "\n",
            "[1078 rows x 2 columns]\n"
          ],
          "name": "stdout"
        }
      ]
    },
    {
      "cell_type": "code",
      "metadata": {
        "id": "VTeW_raoqLUW"
      },
      "source": [
        "train_size = int(0.5 * target_1_clean.shape[0])\n",
        "test_size= target_5_clean.shape[0]-train_size\n",
        "train_features = features_clean[:train_size]\n",
        "train_targets = target_5_clean['Bull'][:train_size]\n",
        "#train_targets = target_bear_trend[:train_size]\n",
        "test_features = features_clean[train_size:]\n",
        "test_targets = target_5_clean['Bull'][train_size:]\n",
        "#test_targets = target_bear_trend[train_size:]\n"
      ],
      "execution_count": 31,
      "outputs": []
    },
    {
      "cell_type": "code",
      "metadata": {
        "id": "dal23fv7q9ko",
        "colab": {
          "base_uri": "https://localhost:8080/"
        },
        "outputId": "fc860e8c-c610-48c7-dda7-911f61dd2a26"
      },
      "source": [
        "print(train_features.columns)\n",
        "print(target_1_clean.shape[0])\n",
        "print(train_size)\n",
        "print(test_size)"
      ],
      "execution_count": 32,
      "outputs": [
        {
          "output_type": "stream",
          "text": [
            "Index(['W%R_Compra', 'Momento_MACD'], dtype='object')\n",
            "1078\n",
            "539\n",
            "539\n"
          ],
          "name": "stdout"
        }
      ]
    },
    {
      "cell_type": "markdown",
      "metadata": {
        "id": "tmGv9y5StxdQ"
      },
      "source": [
        "# Multinomial Naive Bayes"
      ]
    },
    {
      "cell_type": "code",
      "metadata": {
        "id": "b4BxILDCPsak"
      },
      "source": [
        "def run_model(X,y,model_type):\n",
        "        \n",
        "    nb_model = model_type\n",
        "    result=nb_model.fit(X, y)\n",
        "\n",
        "    #np.column_stack((y_test.to_list(),nb_model.predict(X_test)))\n",
        "    #print(nb_model.predict_proba(X_test)[:10])\n",
        "    #print(f'test_score = {nb_model.score(X_test,y_test)}')\n",
        "    \n",
        "    return nb_model\n",
        "\n",
        "def meas_acc(X,y,nb_model):\n",
        "    y_pred = nb_model.predict(X)\n",
        "    print(\"Number of mislabeled points out of a total %d points : %d\" % (X.shape[0], (y != y_pred).sum()))\n",
        "    print(\"Mean Test Accuracy: %f\"% nb_model.score(X, y))\n",
        "    cf_train2 = metrics.confusion_matrix(y, y_pred, normalize=\"all\")                                  \n",
        "    sns.heatmap(cf_train2,linewidths=.5,annot=True,cmap=\"YlGnBu\",cbar=False,square=True,xticklabels=(1,2,3), yticklabels=(1,2,3))\n",
        "   "
      ],
      "execution_count": 33,
      "outputs": []
    },
    {
      "cell_type": "code",
      "metadata": {
        "colab": {
          "base_uri": "https://localhost:8080/",
          "height": 299
        },
        "id": "6DjVolqIeq-h",
        "outputId": "ccc29764-26d4-4d8e-d9a3-3982528c6e60"
      },
      "source": [
        "#X_train,X_test,y_train,y_test = train_eval(df_feat_targ_clean,\"2016-02-02 00:00:00\",\"2018-01-26 00:00:00\")\n",
        "X_train,X_test,y_train,y_test = train_features, test_features, train_targets, test_targets\n",
        "mult_nb = run_model(X_train,y_train, MultinomialNB())\n",
        "#meas_acc(X_train, y_train, mult_nb)\n",
        "meas_acc(X_test, y_test, mult_nb)"
      ],
      "execution_count": 34,
      "outputs": [
        {
          "output_type": "stream",
          "text": [
            "Number of mislabeled points out of a total 539 points : 231\n",
            "Mean Test Accuracy: 0.571429\n"
          ],
          "name": "stdout"
        },
        {
          "output_type": "display_data",
          "data": {
            "image/png": "[encoded data removed]",
            "text/plain": [
              "<Figure size 432x288 with 1 Axes>"
            ]
          },
          "metadata": {
            "tags": [],
            "needs_background": "light"
          }
        }
      ]
    },
    {
      "cell_type": "markdown",
      "metadata": {
        "id": "_IX2_Y8YuJK2"
      },
      "source": [
        "Probability of a successful buy and a successful short after 5 periods: "
      ]
    },
    {
      "cell_type": "code",
      "metadata": {
        "id": "InGkFdoX5sYQ",
        "colab": {
          "base_uri": "https://localhost:8080/"
        },
        "outputId": "99d6b663-7b1f-4e4b-e83d-c35bcbc5102b"
      },
      "source": [
        "probabilities= mult_nb.predict_proba(test_features)\n",
        "df_proba = pd.DataFrame(probabilities,index=test_features.index)\n",
        "print(df_proba.head(40))"
      ],
      "execution_count": 35,
      "outputs": [
        {
          "output_type": "stream",
          "text": [
            "                   0         1\n",
            "Date                          \n",
            "2018-03-19  0.440633  0.559367\n",
            "2018-03-20  0.391466  0.608534\n",
            "2018-03-21  0.391466  0.608534\n",
            "2018-03-22  0.391466  0.608534\n",
            "2018-03-23  0.391466  0.608534\n",
            "2018-03-26  0.391466  0.608534\n",
            "2018-03-27  0.391466  0.608534\n",
            "2018-03-28  0.440633  0.559367\n",
            "2018-03-29  0.391466  0.608534\n",
            "2018-04-02  0.440633  0.559367\n",
            "2018-04-03  0.440633  0.559367\n",
            "2018-04-04  0.440633  0.559367\n",
            "2018-04-05  0.391466  0.608534\n",
            "2018-04-06  0.391466  0.608534\n",
            "2018-04-09  0.391466  0.608534\n",
            "2018-04-10  0.391466  0.608534\n",
            "2018-04-11  0.391466  0.608534\n",
            "2018-04-12  0.391466  0.608534\n",
            "2018-04-13  0.391466  0.608534\n",
            "2018-04-16  0.391466  0.608534\n",
            "2018-04-17  0.391466  0.608534\n",
            "2018-04-18  0.391466  0.608534\n",
            "2018-04-19  0.378323  0.621677\n",
            "2018-04-20  0.378323  0.621677\n",
            "2018-04-23  0.378323  0.621677\n",
            "2018-04-24  0.378323  0.621677\n",
            "2018-04-25  0.378323  0.621677\n",
            "2018-04-26  0.378323  0.621677\n",
            "2018-04-27  0.378323  0.621677\n",
            "2018-04-30  0.378323  0.621677\n",
            "2018-05-02  0.378323  0.621677\n",
            "2018-05-03  0.378323  0.621677\n",
            "2018-05-04  0.378323  0.621677\n",
            "2018-05-07  0.378323  0.621677\n",
            "2018-05-08  0.378323  0.621677\n",
            "2018-05-09  0.378323  0.621677\n",
            "2018-05-10  0.378323  0.621677\n",
            "2018-05-11  0.378323  0.621677\n",
            "2018-05-14  0.378323  0.621677\n",
            "2018-05-15  0.378323  0.621677\n"
          ],
          "name": "stdout"
        }
      ]
    }
  ]
}